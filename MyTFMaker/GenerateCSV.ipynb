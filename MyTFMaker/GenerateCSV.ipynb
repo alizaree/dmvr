{
 "cells": [
  {
   "cell_type": "code",
   "execution_count": 1,
   "id": "06a82c3b",
   "metadata": {},
   "outputs": [],
   "source": [
    "from glob import glob\n",
    "import csv\n",
    "import pandas as pd"
   ]
  },
  {
   "cell_type": "code",
   "execution_count": 5,
   "id": "1d3fb3d2",
   "metadata": {},
   "outputs": [
    {
     "name": "stdout",
     "output_type": "stream",
     "text": [
      "the number of subDirs/classes is:  400\n",
      "the class to converty to TFrecords is located at /dvmm-filer2/datasets/Kinetics/400/kinetics_val/videos_trimmed/shaking_hands/\n",
      " number of videos in the class:  46\n",
      "a sample file name: /dvmm-filer2/datasets/Kinetics/400/kinetics_val/videos_trimmed/shaking_hands/YvsjPWiPZCM_8_10.mp4\n"
     ]
    }
   ],
   "source": [
    "# this files generates a CSV of dataset to convert to TFrecords\n",
    "RootDir='/dvmm-filer2/datasets/Kinetics/400/kinetics_val/videos_trimmed' # the root dir that contains files\n",
    "newfilePath='/dvmm-filer2/users/ali/Data/K_400/dummyTF/'\n",
    "subDirs=glob(RootDir+\"/*/\", recursive = True)\n",
    "print('the number of subDirs/classes is: ', len(subDirs))\n",
    "#print(subDirs, len(subDirs))\n",
    "# we choose a randome subDir \n",
    "randClass=40\n",
    "BaseVideoPath=subDirs[randClass]\n",
    "print('the class to converty to TFrecords is located at', BaseVideoPath  )\n",
    "\n",
    "files = []\n",
    "for file in glob(BaseVideoPath+\"*.mp4\"):\n",
    "    files.append(file)\n",
    "\n",
    "print(' number of videos in the class: ',len(files))\n",
    "print('a sample file name:', files[0])\n",
    "\n",
    "# extract the start and stop times of videos\n",
    "\n",
    "filenames=[idd[len(BaseVideoPath):-4] for idd in files]\n",
    "start=[idd.split('_')[-2] for idd in filenames]\n",
    "stop= [ str(int(start[idd]) +int(item.split('_')[-1])) for idd,item in enumerate(filenames)]\n",
    "labels=[ '_'.join(idd.split('_')[:-2]) for idd in filenames]\n"
   ]
  },
  {
   "cell_type": "code",
   "execution_count": 6,
   "id": "8011f5ed",
   "metadata": {},
   "outputs": [],
   "source": [
    "rows = zip(files, start, stop, labels)\n",
    "headers=['video_path','start','end','label']\n",
    "\n",
    "with open(newfilePath+\"CSV_\"+str(randClass)+\"_.csv\", \"w\") as f:\n",
    "    writer = csv.writer(f)\n",
    "    writer.writerow(headers)\n",
    "    for row in rows:\n",
    "        writer.writerow(row)\n"
   ]
  },
  {
   "cell_type": "code",
   "execution_count": 4,
   "id": "743860a4",
   "metadata": {},
   "outputs": [
    {
     "ename": "NameError",
     "evalue": "name 'generate_sequence_example' is not defined",
     "output_type": "error",
     "traceback": [
      "\u001b[0;31m---------------------------------------------------------------------------\u001b[0m",
      "\u001b[0;31mNameError\u001b[0m                                 Traceback (most recent call last)",
      "\u001b[0;32m/tmp/ipykernel_21672/280347590.py\u001b[0m in \u001b[0;36m<module>\u001b[0;34m\u001b[0m\n\u001b[1;32m      4\u001b[0m \u001b[0;32mfor\u001b[0m \u001b[0mi\u001b[0m \u001b[0;32min\u001b[0m \u001b[0mrange\u001b[0m\u001b[0;34m(\u001b[0m\u001b[0mlen\u001b[0m\u001b[0;34m(\u001b[0m\u001b[0minput_csv\u001b[0m\u001b[0;34m)\u001b[0m\u001b[0;34m)\u001b[0m\u001b[0;34m:\u001b[0m\u001b[0;34m\u001b[0m\u001b[0;34m\u001b[0m\u001b[0m\n\u001b[1;32m      5\u001b[0m     \u001b[0mv\u001b[0m\u001b[0;34m=\u001b[0m \u001b[0minput_csv\u001b[0m\u001b[0;34m[\u001b[0m\u001b[0;34m\"label\"\u001b[0m\u001b[0;34m]\u001b[0m\u001b[0;34m.\u001b[0m\u001b[0mvalues\u001b[0m\u001b[0;34m[\u001b[0m\u001b[0mi\u001b[0m\u001b[0;34m]\u001b[0m\u001b[0;34m\u001b[0m\u001b[0;34m\u001b[0m\u001b[0m\n\u001b[0;32m----> 6\u001b[0;31m     seq_ex = generate_sequence_example(\n\u001b[0m\u001b[1;32m      7\u001b[0m           v, s, e, label_name=l, caption=c, label_map=l_map)\n",
      "\u001b[0;31mNameError\u001b[0m: name 'generate_sequence_example' is not defined"
     ]
    }
   ],
   "source": [
    "## read back csv to see if it's written properly\n",
    "input_csv = pd.read_csv(newfilePath+\"CSV_\"+str(randClass)+\"_.csv\")\n",
    "\n",
    "for i in range(len(input_csv)):\n",
    "    v= input_csv[\"label\"].values[i]\n",
    "    seq_ex = generate_sequence_example(\n",
    "          v, s, e, label_name=l, caption=c, label_map=l_map)"
   ]
  },
  {
   "cell_type": "code",
   "execution_count": null,
   "id": "dc7bbf91",
   "metadata": {},
   "outputs": [],
   "source": []
  }
 ],
 "metadata": {
  "kernelspec": {
   "display_name": "Python 3 (ipykernel)",
   "language": "python",
   "name": "python3"
  },
  "language_info": {
   "codemirror_mode": {
    "name": "ipython",
    "version": 3
   },
   "file_extension": ".py",
   "mimetype": "text/x-python",
   "name": "python",
   "nbconvert_exporter": "python",
   "pygments_lexer": "ipython3",
   "version": "3.9.7"
  }
 },
 "nbformat": 4,
 "nbformat_minor": 5
}
